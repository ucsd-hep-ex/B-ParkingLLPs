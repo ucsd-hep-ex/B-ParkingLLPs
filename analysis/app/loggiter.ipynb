{
 "cells": [
  {
   "cell_type": "code",
   "execution_count": 3,
   "id": "6e63eb3b-6884-4bf1-8d39-9826df880704",
   "metadata": {},
   "outputs": [],
   "source": [
    "import re\n",
    "\n",
    "# Open the input file\n",
    "with open(\"analyzer_base.\", \"r\") as file:\n",
    "    content = file.read()\n",
    "\n",
    "# Define the start and end comment strings\n",
    "start_comment = \"//--------------------------------------------------------------------------------------- # Begin Region Definitions #\"\n",
    "end_comment = \"//--------------------------------------------------------------------------------------- # End Region Definitions #\"\n",
    "\n",
    "# Create a regular expression pattern to match the lines between the comments\n",
    "pattern = re.compile(r\"(?<=\\n)(.*?)(?=\\n.*?\" + re.escape(end_comment) + \")\", re.DOTALL)\n",
    "\n",
    "# Find all matches and append \"// loggit\" to each line\n",
    "matches = re.findall(pattern, content)\n",
    "max_length = max(len(line) for line in matches)\n",
    "new_content = re.sub(pattern, lambda match: match.group() + \" \" * (max_length - len(match.group())) + \" // loggit\", content)\n",
    "\n",
    "# Write the modified content to a new file\n",
    "with open(\"output.c\", \"w\") as file:\n",
    "    file.write(new_content)\n"
   ]
  },
  {
   "cell_type": "code",
   "execution_count": null,
   "id": "29213cec-d941-41d0-8f3b-246944e3b228",
   "metadata": {},
   "outputs": [],
   "source": []
  }
 ],
 "metadata": {
  "kernelspec": {
   "display_name": "Python 3 (ipykernel)",
   "language": "python",
   "name": "python3"
  },
  "language_info": {
   "codemirror_mode": {
    "name": "ipython",
    "version": 3
   },
   "file_extension": ".py",
   "mimetype": "text/x-python",
   "name": "python",
   "nbconvert_exporter": "python",
   "pygments_lexer": "ipython3",
   "version": "3.11.4"
  }
 },
 "nbformat": 4,
 "nbformat_minor": 5
}
